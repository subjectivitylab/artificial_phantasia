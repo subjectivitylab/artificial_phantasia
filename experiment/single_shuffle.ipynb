{
 "cells": [
  {
   "metadata": {},
   "cell_type": "code",
   "source": [
    "# Shuffle instruction sheet once\n",
    "import pandas as pd"
   ],
   "id": "6821ec22fc8f2b2d",
   "outputs": [],
   "execution_count": null
  },
  {
   "cell_type": "code",
   "id": "initial_id",
   "metadata": {
    "collapsed": true
   },
   "source": [
    "llm_ins_preshuffle = pd.read_csv(\"llm_ins_preshuffle.csv\")\n",
    "llm_ins_preshuffle"
   ],
   "outputs": [],
   "execution_count": null
  },
  {
   "metadata": {},
   "cell_type": "code",
   "source": [
    "llm_ins = llm_ins_preshuffle.sample(frac=1, random_state=60).reset_index(drop=True)\n",
    "llm_ins"
   ],
   "id": "90644da1f30d5fee",
   "outputs": [],
   "execution_count": null
  },
  {
   "metadata": {},
   "cell_type": "code",
   "source": "llm_ins.to_csv(\"llm_ins.csv\")",
   "id": "5a83c04106fca40d",
   "outputs": [],
   "execution_count": null
  }
 ],
 "metadata": {
  "kernelspec": {
   "display_name": "Python 3",
   "language": "python",
   "name": "python3"
  },
  "language_info": {
   "codemirror_mode": {
    "name": "ipython",
    "version": 2
   },
   "file_extension": ".py",
   "mimetype": "text/x-python",
   "name": "python",
   "nbconvert_exporter": "python",
   "pygments_lexer": "ipython2",
   "version": "2.7.6"
  }
 },
 "nbformat": 4,
 "nbformat_minor": 5
}
